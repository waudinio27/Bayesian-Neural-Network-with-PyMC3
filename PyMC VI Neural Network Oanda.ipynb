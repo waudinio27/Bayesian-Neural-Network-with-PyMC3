{
 "cells": [
  {
   "cell_type": "code",
   "execution_count": 1,
   "metadata": {},
   "outputs": [
    {
     "name": "stderr",
     "output_type": "stream",
     "text": [
      "WARNING (theano.tensor.blas): Using NumPy C-API based implementation for BLAS functions.\n"
     ]
    }
   ],
   "source": [
    "\n",
    "#ignoring warnings\n",
    "import warnings\n",
    "warnings.simplefilter('ignore')\n",
    "\n",
    "#importing neccesary modules\n",
    "import sys\n",
    "import pandas as pd\n",
    "import numpy as np\n",
    "import matplotlib.dates as mdates\n",
    "from matplotlib.dates import DateFormatter\n",
    "import matplotlib\n",
    "import matplotlib.pyplot as plt\n",
    "plt.style.use('seaborn-whitegrid')\n",
    "import seaborn as sns\n",
    "from dateutil.parser import parse\n",
    "\n",
    "%matplotlib inline\n",
    "import theano\n",
    "floatX = theano.config.floatX\n",
    "import pymc3 as pm\n",
    "import theano.tensor as T\n",
    "import sklearn\n",
    "import numpy as np\n",
    "\n",
    "import seaborn as sns\n",
    "from warnings import filterwarnings\n",
    "sns.set_style('white')\n",
    "from sklearn import datasets\n",
    "from sklearn.preprocessing import scale\n",
    "\n",
    "\n",
    "\n",
    "import time\n",
    "from datetime import datetime, timezone\n",
    "from dateutil import parser\n",
    "import oandapyV20.endpoints.instruments as instruments\n",
    "import configparser\n",
    "import json\n",
    "from oandapyV20 import API\n",
    "import oandapyV20.endpoints.positions as positions\n",
    "import oandapyV20.endpoints.trades as trades\n",
    "from oandapyV20.endpoints.pricing import PricingStream\n",
    "import oandapyV20.endpoints.orders as orders\n",
    "import oandapyV20.endpoints.accounts as accounts\n",
    "from oandapyV20.contrib.factories import InstrumentsCandlesFactory\n",
    "from oandapyV20.contrib.requests import MarketOrderRequest, TrailingStopLossDetails\n",
    "from oandapyV20.exceptions import V20Error, StreamTerminated\n",
    "\n",
    "\n",
    "\n"
   ]
  },
  {
   "cell_type": "code",
   "execution_count": 2,
   "metadata": {},
   "outputs": [],
   "source": [
    "#https://oanda-api-v20.readthedocs.io/en/latest/index.html\n",
    "config = configparser.ConfigParser()\n",
    "config.read('oanda.cfg')\n",
    "\n",
    "client = API(access_token=config['oanda']['access_token'])"
   ]
  },
  {
   "cell_type": "code",
   "execution_count": 3,
   "metadata": {},
   "outputs": [],
   "source": [
    "\n",
    "\n",
    "\n",
    "def get_data(granularity, instrument, save_csv=False):\n",
    "    client = API(access_token=\"e11aadc917842adf254cd73c038c4e0a-321ea21ac5697ab46036807f5e5e943d\")\n",
    "    \n",
    "\n",
    "    params = {\n",
    "\n",
    "        \"granularity\": granularity,\n",
    "        \"count\": 1000,\n",
    "     }\n",
    "    df = pd.DataFrame(columns=[\"Date\", 'Open', 'High', 'Low', 'Close', \"Volume\"])\n",
    "    for r in InstrumentsCandlesFactory(instrument=instrument, params=params):\n",
    "            rv = client.request(r)\n",
    "            results = [{\"Date\":candle['time'][0:19], \"Open\":float(candle['mid']['o']),\n",
    "                        \"High\":float(candle['mid']['h']), \"Low\":float(candle['mid']['l']),\n",
    "                       \"Close\":float(candle['mid']['c']), \"Volume\": float(candle['volume'])\n",
    "                       } for candle in r.response.get('candles')]\n",
    "            df = df.append(pd.DataFrame(results), ignore_index=True)\n",
    "\n",
    "    df.set_index(\"Date\", inplace=True)\n",
    "    if save_csv:\n",
    "        df.to_csv(instrument + \"_\" + granularity + \".csv\")\n",
    "    return df"
   ]
  },
  {
   "cell_type": "code",
   "execution_count": 4,
   "metadata": {},
   "outputs": [
    {
     "data": {
      "text/html": [
       "<div>\n",
       "<style scoped>\n",
       "    .dataframe tbody tr th:only-of-type {\n",
       "        vertical-align: middle;\n",
       "    }\n",
       "\n",
       "    .dataframe tbody tr th {\n",
       "        vertical-align: top;\n",
       "    }\n",
       "\n",
       "    .dataframe thead th {\n",
       "        text-align: right;\n",
       "    }\n",
       "</style>\n",
       "<table border=\"1\" class=\"dataframe\">\n",
       "  <thead>\n",
       "    <tr style=\"text-align: right;\">\n",
       "      <th></th>\n",
       "      <th>Open</th>\n",
       "      <th>High</th>\n",
       "      <th>Low</th>\n",
       "      <th>Close</th>\n",
       "      <th>Volume</th>\n",
       "    </tr>\n",
       "    <tr>\n",
       "      <th>Date</th>\n",
       "      <th></th>\n",
       "      <th></th>\n",
       "      <th></th>\n",
       "      <th></th>\n",
       "      <th></th>\n",
       "    </tr>\n",
       "  </thead>\n",
       "  <tbody>\n",
       "    <tr>\n",
       "      <th>2018-07-08T21:00:00</th>\n",
       "      <td>12564.6</td>\n",
       "      <td>12575.0</td>\n",
       "      <td>12490.3</td>\n",
       "      <td>12573.6</td>\n",
       "      <td>76058.0</td>\n",
       "    </tr>\n",
       "    <tr>\n",
       "      <th>2018-07-09T21:00:00</th>\n",
       "      <td>12586.6</td>\n",
       "      <td>12644.6</td>\n",
       "      <td>12531.5</td>\n",
       "      <td>12613.3</td>\n",
       "      <td>76655.0</td>\n",
       "    </tr>\n",
       "    <tr>\n",
       "      <th>2018-07-10T21:00:00</th>\n",
       "      <td>12498.0</td>\n",
       "      <td>12523.1</td>\n",
       "      <td>12391.8</td>\n",
       "      <td>12430.3</td>\n",
       "      <td>116588.0</td>\n",
       "    </tr>\n",
       "    <tr>\n",
       "      <th>2018-07-11T21:00:00</th>\n",
       "      <td>12464.8</td>\n",
       "      <td>12518.4</td>\n",
       "      <td>12409.2</td>\n",
       "      <td>12515.8</td>\n",
       "      <td>92902.0</td>\n",
       "    </tr>\n",
       "    <tr>\n",
       "      <th>2018-07-12T21:00:00</th>\n",
       "      <td>12542.9</td>\n",
       "      <td>12587.6</td>\n",
       "      <td>12499.8</td>\n",
       "      <td>12546.4</td>\n",
       "      <td>82619.0</td>\n",
       "    </tr>\n",
       "    <tr>\n",
       "      <th>...</th>\n",
       "      <td>...</td>\n",
       "      <td>...</td>\n",
       "      <td>...</td>\n",
       "      <td>...</td>\n",
       "      <td>...</td>\n",
       "    </tr>\n",
       "    <tr>\n",
       "      <th>2022-06-07T21:00:00</th>\n",
       "      <td>14586.0</td>\n",
       "      <td>14630.5</td>\n",
       "      <td>14352.6</td>\n",
       "      <td>14383.6</td>\n",
       "      <td>135723.0</td>\n",
       "    </tr>\n",
       "    <tr>\n",
       "      <th>2022-06-08T21:00:00</th>\n",
       "      <td>14382.0</td>\n",
       "      <td>14425.0</td>\n",
       "      <td>14086.6</td>\n",
       "      <td>14089.6</td>\n",
       "      <td>169418.0</td>\n",
       "    </tr>\n",
       "    <tr>\n",
       "      <th>2022-06-09T21:00:00</th>\n",
       "      <td>14095.1</td>\n",
       "      <td>14131.2</td>\n",
       "      <td>13740.2</td>\n",
       "      <td>13787.2</td>\n",
       "      <td>219399.0</td>\n",
       "    </tr>\n",
       "    <tr>\n",
       "      <th>2022-06-12T21:00:00</th>\n",
       "      <td>13655.1</td>\n",
       "      <td>13657.1</td>\n",
       "      <td>13376.0</td>\n",
       "      <td>13458.0</td>\n",
       "      <td>291550.0</td>\n",
       "    </tr>\n",
       "    <tr>\n",
       "      <th>2022-06-13T21:00:00</th>\n",
       "      <td>13500.0</td>\n",
       "      <td>13510.5</td>\n",
       "      <td>13448.0</td>\n",
       "      <td>13476.5</td>\n",
       "      <td>2502.0</td>\n",
       "    </tr>\n",
       "  </tbody>\n",
       "</table>\n",
       "<p>1000 rows × 5 columns</p>\n",
       "</div>"
      ],
      "text/plain": [
       "                        Open     High      Low    Close    Volume\n",
       "Date                                                             \n",
       "2018-07-08T21:00:00  12564.6  12575.0  12490.3  12573.6   76058.0\n",
       "2018-07-09T21:00:00  12586.6  12644.6  12531.5  12613.3   76655.0\n",
       "2018-07-10T21:00:00  12498.0  12523.1  12391.8  12430.3  116588.0\n",
       "2018-07-11T21:00:00  12464.8  12518.4  12409.2  12515.8   92902.0\n",
       "2018-07-12T21:00:00  12542.9  12587.6  12499.8  12546.4   82619.0\n",
       "...                      ...      ...      ...      ...       ...\n",
       "2022-06-07T21:00:00  14586.0  14630.5  14352.6  14383.6  135723.0\n",
       "2022-06-08T21:00:00  14382.0  14425.0  14086.6  14089.6  169418.0\n",
       "2022-06-09T21:00:00  14095.1  14131.2  13740.2  13787.2  219399.0\n",
       "2022-06-12T21:00:00  13655.1  13657.1  13376.0  13458.0  291550.0\n",
       "2022-06-13T21:00:00  13500.0  13510.5  13448.0  13476.5    2502.0\n",
       "\n",
       "[1000 rows x 5 columns]"
      ]
     },
     "execution_count": 4,
     "metadata": {},
     "output_type": "execute_result"
    }
   ],
   "source": [
    "df = get_data(instrument = \"DE30_EUR\", granularity = \"D\", save_csv=True)\n",
    "df.head()\n",
    "df.dropna()"
   ]
  },
  {
   "cell_type": "code",
   "execution_count": 5,
   "metadata": {},
   "outputs": [
    {
     "data": {
      "text/plain": [
       "((1000,), (1000,))"
      ]
     },
     "execution_count": 5,
     "metadata": {},
     "output_type": "execute_result"
    }
   ],
   "source": [
    "df = df.reset_index()\n",
    "\n",
    "X= (df['Close']).values\n",
    "Y= (df['Close']).index.values\n",
    "\n",
    "\n",
    "X.shape, Y.shape"
   ]
  },
  {
   "cell_type": "code",
   "execution_count": 6,
   "metadata": {},
   "outputs": [
    {
     "data": {
      "text/plain": [
       "[<matplotlib.lines.Line2D at 0x25d56c4de50>]"
      ]
     },
     "execution_count": 6,
     "metadata": {},
     "output_type": "execute_result"
    },
    {
     "data": {
      "image/png": "[encoded data removed]",
      "text/plain": [
       "<Figure size 432x288 with 1 Axes>"
      ]
     },
     "metadata": {},
     "output_type": "display_data"
    }
   ],
   "source": [
    "plt.plot(X)\n"
   ]
  },
  {
   "cell_type": "code",
   "execution_count": 7,
   "metadata": {},
   "outputs": [
    {
     "ename": "IndexError",
     "evalue": "tuple index out of range",
     "output_type": "error",
     "traceback": [
      "\u001b[1;31m---------------------------------------------------------------------------\u001b[0m",
      "\u001b[1;31mIndexError\u001b[0m                                Traceback (most recent call last)",
      "Input \u001b[1;32mIn [7]\u001b[0m, in \u001b[0;36m<cell line: 49>\u001b[1;34m()\u001b[0m\n\u001b[0;32m     42\u001b[0m         out \u001b[38;5;241m=\u001b[39m pm\u001b[38;5;241m.\u001b[39mBernoulli(\u001b[38;5;124m'\u001b[39m\u001b[38;5;124mout\u001b[39m\u001b[38;5;124m'\u001b[39m,\n\u001b[0;32m     43\u001b[0m                            act_out,\n\u001b[0;32m     44\u001b[0m                            observed\u001b[38;5;241m=\u001b[39mann_output,\n\u001b[0;32m     45\u001b[0m                            total_size\u001b[38;5;241m=\u001b[39mY\u001b[38;5;241m.\u001b[39mshape[\u001b[38;5;241m0\u001b[39m] \u001b[38;5;66;03m# IMPORTANT for minibatches\u001b[39;00m\n\u001b[0;32m     46\u001b[0m                           )\n\u001b[0;32m     47\u001b[0m     \u001b[38;5;28;01mreturn\u001b[39;00m neural_network\n\u001b[1;32m---> 49\u001b[0m neural_network \u001b[38;5;241m=\u001b[39m \u001b[43mconstruct_nn\u001b[49m\u001b[43m(\u001b[49m\u001b[43mX\u001b[49m\u001b[43m,\u001b[49m\u001b[43m \u001b[49m\u001b[43mY\u001b[49m\u001b[43m)\u001b[49m\n",
      "Input \u001b[1;32mIn [7]\u001b[0m, in \u001b[0;36mconstruct_nn\u001b[1;34m(ann_input, ann_output)\u001b[0m\n\u001b[0;32m      2\u001b[0m n_hidden \u001b[38;5;241m=\u001b[39m \u001b[38;5;241m5\u001b[39m\n\u001b[0;32m      4\u001b[0m \u001b[38;5;66;03m# Initialize random weights between each layer\u001b[39;00m\n\u001b[1;32m----> 5\u001b[0m init_1 \u001b[38;5;241m=\u001b[39m np\u001b[38;5;241m.\u001b[39mrandom\u001b[38;5;241m.\u001b[39mrandn(\u001b[43mX\u001b[49m\u001b[38;5;241;43m.\u001b[39;49m\u001b[43mshape\u001b[49m\u001b[43m[\u001b[49m\u001b[38;5;241;43m1\u001b[39;49m\u001b[43m]\u001b[49m, n_hidden)\u001b[38;5;241m.\u001b[39mastype(floatX)\n\u001b[0;32m      6\u001b[0m init_2 \u001b[38;5;241m=\u001b[39m np\u001b[38;5;241m.\u001b[39mrandom\u001b[38;5;241m.\u001b[39mrandn(n_hidden, n_hidden)\u001b[38;5;241m.\u001b[39mastype(floatX)\n\u001b[0;32m      7\u001b[0m init_out \u001b[38;5;241m=\u001b[39m np\u001b[38;5;241m.\u001b[39mrandom\u001b[38;5;241m.\u001b[39mrandn(n_hidden)\u001b[38;5;241m.\u001b[39mastype(floatX)\n",
      "\u001b[1;31mIndexError\u001b[0m: tuple index out of range"
     ]
    }
   ],
   "source": [
    "def construct_nn(ann_input, ann_output):\n",
    "    n_hidden = 5\n",
    "\n",
    "    # Initialize random weights between each layer\n",
    "    init_1 = np.random.randn(X.shape[1], n_hidden).astype(floatX)\n",
    "    init_2 = np.random.randn(n_hidden, n_hidden).astype(floatX)\n",
    "    init_out = np.random.randn(n_hidden).astype(floatX)\n",
    "\n",
    "    with pm.Model() as neural_network:\n",
    "        # Trick: Turn inputs and outputs into shared variables using the data container pm.Data\n",
    "        # It's still the same thing, but we can later change the values of the shared variable\n",
    "        # (to switch in the test-data later) and pymc3 will just use the new data.\n",
    "        # Kind-of like a pointer we can redirect.\n",
    "        # For more info, see: http://deeplearning.net/software/theano/library/compile/shared.html\n",
    "        ann_input = pm.Data('ann_input', X)\n",
    "        ann_output = pm.Data('ann_output', Y)\n",
    "\n",
    "        # Weights from input to hidden layer\n",
    "        weights_in_1 = pm.Normal('w_in_1', 0, sigma=1,\n",
    "                                 shape=(X.shape[1], n_hidden),\n",
    "                                 testval=init_1)\n",
    "\n",
    "        # Weights from 1st to 2nd layer\n",
    "        weights_1_2 = pm.Normal('w_1_2', 0, sigma=1,\n",
    "                                shape=(n_hidden, n_hidden),\n",
    "                                testval=init_2)\n",
    "\n",
    "        # Weights from hidden layer to output\n",
    "        weights_2_out = pm.Normal('w_2_out', 0, sigma=1,\n",
    "                                  shape=(n_hidden,),\n",
    "                                  testval=init_out)\n",
    "\n",
    "        # Build neural-network using tanh activation function\n",
    "        act_1 = pm.math.tanh(pm.math.dot(ann_input,\n",
    "                                         weights_in_1))\n",
    "        act_2 = pm.math.tanh(pm.math.dot(act_1,\n",
    "                                         weights_1_2))\n",
    "        act_out = pm.math.sigmoid(pm.math.dot(act_2,\n",
    "                                              weights_2_out))\n",
    "\n",
    "        # Binary classification -> Bernoulli likelihood\n",
    "        out = pm.Bernoulli('out',\n",
    "                           act_out,\n",
    "                           observed=ann_output,\n",
    "                           total_size=Y.shape[0] # IMPORTANT for minibatches\n",
    "                          )\n",
    "    return neural_network\n",
    "\n",
    "neural_network = construct_nn(X, Y)"
   ]
  },
  {
   "cell_type": "code",
   "execution_count": null,
   "metadata": {},
   "outputs": [],
   "source": [
    "%%time\n",
    "with neural_network:\n",
    "    inference = pm.ADVI()\n",
    "    approx = pm.fit(n=30000, method=inference)"
   ]
  },
  {
   "cell_type": "code",
   "execution_count": null,
   "metadata": {},
   "outputs": [],
   "source": [
    "plt.plot(inference.hist, label='new ADVI', alpha=.6)\n",
    "plt.legend()\n",
    "plt.ylabel('ELBO')\n",
    "plt.xlabel('iteration');"
   ]
  },
  {
   "cell_type": "code",
   "execution_count": null,
   "metadata": {},
   "outputs": [],
   "source": [
    "trace = approx.sample(draws=5000)"
   ]
  },
  {
   "cell_type": "code",
   "execution_count": null,
   "metadata": {},
   "outputs": [],
   "source": [
    "# create symbolic input\n",
    "x = T.matrix(\"X\")\n",
    "# symbolic number of samples is supported, we build vectorized posterior on the fly\n",
    "n = T.iscalar(\"n\")\n",
    "# Do not forget test_values or set theano.config.compute_test_value = 'off'\n",
    "x.tag.test_value = np.empty_like(X_train[:10])\n",
    "n.tag.test_value = 100\n",
    "_sample_proba = approx.sample_node(\n",
    "    neural_network.out.distribution.p, size=n, more_replacements={neural_network[\"ann_input\"]: x}\n",
    ")\n",
    "# It is time to compile the function\n",
    "# No updates are needed for Approximation random generator\n",
    "# Efficient vectorized form of sampling is used\n",
    "sample_proba = theano.function([x, n], _sample_proba)\n",
    "\n",
    "# Create bechmark functions\n",
    "def production_step1():\n",
    "    pm.set_data(new_data={\"ann_input\": X_test, \"ann_output\": Y_test}, model=neural_network)\n",
    "    ppc = pm.sample_posterior_predictive(\n",
    "        trace, samples=500, progressbar=False, model=neural_network\n",
    "    )\n",
    "\n",
    "    # Use probability of > 0.5 to assume prediction of class 1\n",
    "    pred = ppc[\"out\"].mean(axis=0) > 0.5\n",
    "\n",
    "\n",
    "def production_step2():\n",
    "    sample_proba(X_test, 500).mean(0) > 0.5\n",
    "\n"
   ]
  },
  {
   "cell_type": "code",
   "execution_count": null,
   "metadata": {},
   "outputs": [],
   "source": [
    "pred = sample_proba(X, 500).mean(0) > 0.5"
   ]
  },
  {
   "cell_type": "code",
   "execution_count": null,
   "metadata": {},
   "outputs": [],
   "source": [
    "pred.shape"
   ]
  },
  {
   "cell_type": "code",
   "execution_count": null,
   "metadata": {},
   "outputs": [],
   "source": [
    "print('Accuracy = {}%'.format((Y == pred).mean() * 100))"
   ]
  },
  {
   "cell_type": "code",
   "execution_count": null,
   "metadata": {},
   "outputs": [],
   "source": [
    "grid = pm.floatX(np.mgrid[-3:3:100j, -3:3:100j])\n",
    "grid_2d = grid.reshape(2, -1).T\n",
    "dummy_out = np.ones(grid.shape[1], dtype=np.int8)\n",
    "\n"
   ]
  },
  {
   "cell_type": "code",
   "execution_count": null,
   "metadata": {},
   "outputs": [],
   "source": [
    "ppc = sample_proba(grid_2d, 500)\n",
    "\n"
   ]
  },
  {
   "cell_type": "code",
   "execution_count": null,
   "metadata": {},
   "outputs": [],
   "source": [
    "cmap = sns.diverging_palette(250, 12, s=85, l=25, as_cmap=True)\n",
    "fig, ax = plt.subplots(figsize=(16, 9))\n",
    "contour = ax.contourf(grid[0], grid[1], ppc.mean(axis=0).reshape(100, 100), cmap=cmap)\n",
    "ax.scatter(X_test[pred == 0, 0], X_test[pred == 0, 1])\n",
    "ax.scatter(X_test[pred == 1, 0], X_test[pred == 1, 1], color=\"r\")\n",
    "cbar = plt.colorbar(contour, ax=ax)\n",
    "_ = ax.set(xlim=(-3, 3), ylim=(-3, 3), xlabel=\"X\", ylabel=\"Y\")\n",
    "cbar.ax.set_ylabel(\"Posterior predictive mean probability of class label = 0\");\n",
    "\n"
   ]
  },
  {
   "cell_type": "code",
   "execution_count": null,
   "metadata": {},
   "outputs": [],
   "source": [
    "cmap = sns.cubehelix_palette(light=1, as_cmap=True)\n",
    "fig, ax = plt.subplots(figsize=(16, 9))\n",
    "contour = ax.contourf(grid[0], grid[1], ppc.std(axis=0).reshape(100, 100), cmap=cmap)\n",
    "ax.scatter(X_test[pred == 0, 0], X_test[pred == 0, 1])\n",
    "ax.scatter(X_test[pred == 1, 0], X_test[pred == 1, 1], color=\"r\")\n",
    "cbar = plt.colorbar(contour, ax=ax)\n",
    "_ = ax.set(xlim=(-3, 3), ylim=(-3, 3), xlabel=\"X\", ylabel=\"Y\")\n",
    "cbar.ax.set_ylabel(\"Uncertainty (posterior predictive standard deviation)\");\n",
    "\n"
   ]
  },
  {
   "cell_type": "code",
   "execution_count": null,
   "metadata": {},
   "outputs": [],
   "source": [
    "pm.traceplot(trace);"
   ]
  },
  {
   "cell_type": "code",
   "execution_count": null,
   "metadata": {},
   "outputs": [],
   "source": [
    "import arviz as az\n",
    "\n",
    "az.plot_posterior(\n",
    "    trace, var_names=[\"w_2_out\"]\n",
    ");"
   ]
  },
  {
   "cell_type": "code",
   "execution_count": null,
   "metadata": {},
   "outputs": [],
   "source": []
  }
 ],
 "metadata": {
  "kernelspec": {
   "display_name": "myenv",
   "language": "python",
   "name": "myenv"
  },
  "language_info": {
   "codemirror_mode": {
    "name": "ipython",
    "version": 3
   },
   "file_extension": ".py",
   "mimetype": "text/x-python",
   "name": "python",
   "nbconvert_exporter": "python",
   "pygments_lexer": "ipython3",
   "version": "3.9.12"
  }
 },
 "nbformat": 4,
 "nbformat_minor": 1
}
